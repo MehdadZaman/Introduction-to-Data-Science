{
 "cells": [
  {
   "cell_type": "markdown",
   "metadata": {
    "colab_type": "text",
    "id": "aP7QNKmNErKR"
   },
   "source": [
    "### **Reading data from the file**"
   ]
  },
  {
   "cell_type": "code",
   "execution_count": 1,
   "metadata": {
    "colab": {
     "base_uri": "https://localhost:8080/",
     "height": 71
    },
    "colab_type": "code",
    "id": "T8kh8NDmu4Eq",
    "outputId": "ccd20bc5-d569-40a0-ad2c-31ed0cf95465"
   },
   "outputs": [],
   "source": [
    "import numpy as np\n",
    "import pandas as pd\n",
    "import matplotlib.pyplot as plt\n",
    "import seaborn as sns\n",
    "from sklearn.svm import SVC\n",
    "from sklearn.metrics import classification_report, confusion_matrix,accuracy_score\n",
    "from sklearn.ensemble import RandomForestRegressor\n",
    "from sklearn import metrics\n",
    "from sklearn.tree import DecisionTreeClassifier\n",
    "from sklearn.model_selection import KFold\n",
    "from sklearn.model_selection import RandomizedSearchCV\n",
    "from sklearn.ensemble import RandomForestClassifier\n",
    "from sklearn.metrics import plot_confusion_matrix\n",
    "\n",
    "import warnings\n",
    "warnings.filterwarnings('ignore')\n",
    "\n",
    "traindata = pd.read_csv('police_killings_train.csv') \n",
    "testdata = pd.read_csv('police_killings_test.csv')"
   ]
  },
  {
   "cell_type": "markdown",
   "metadata": {
    "colab_type": "text",
    "id": "hjwMDqRdIrHf"
   },
   "source": [
    " # **Exploratory data analysis (EDA)** "
   ]
  },
  {
   "cell_type": "markdown",
   "metadata": {
    "colab_type": "text",
    "id": "Zs1i0xJI71PZ"
   },
   "source": [
    "### **Step 1: Handling missing values in the data set** \n",
    "\n",
    "\n"
   ]
  },
  {
   "cell_type": "markdown",
   "metadata": {
    "colab_type": "text",
    "id": "qUJo9hhQiDML"
   },
   "source": [
    "We replaced 37 missing age values in the training data set and 40 missing age values in the testing data set with the **mean of the age** column. The missing values in the race and flee columns were replaced with **the mode of that respective column**. Missing values in the armed column were **dropped** due to their low number. \n",
    "\n",
    "\n"
   ]
  },
  {
   "cell_type": "code",
   "execution_count": 2,
   "metadata": {
    "colab": {
     "base_uri": "https://localhost:8080/",
     "height": 561
    },
    "colab_type": "code",
    "id": "c1cZmd57iCxZ",
    "outputId": "ba2b8b45-eeb3-441c-94cd-3836a4dc05ab"
   },
   "outputs": [
    {
     "name": "stdout",
     "output_type": "stream",
     "text": [
      "The number of null values in the train data set  are:\n",
      " id                          0\n",
      "name                        0\n",
      "date                        0\n",
      "manner_of_death             0\n",
      "armed                       6\n",
      "age                        37\n",
      "gender                      0\n",
      "race                       91\n",
      "city                        0\n",
      "state                       0\n",
      "signs_of_mental_illness     0\n",
      "threat_level                0\n",
      "flee                       27\n",
      "body_camera                 0\n",
      "dtype: int64\n",
      "The number of null values in the test data set  are:\n",
      " id                           0\n",
      "name                         0\n",
      "date                         0\n",
      "manner_of_death              0\n",
      "armed                        3\n",
      "age                         40\n",
      "gender                       0\n",
      "race                       104\n",
      "city                         0\n",
      "state                        0\n",
      "signs_of_mental_illness      0\n",
      "threat_level                 0\n",
      "flee                        38\n",
      "body_camera                  0\n",
      "dtype: int64\n"
     ]
    }
   ],
   "source": [
    "print( \"The number of null values in the train data set  are:\\n\", \n",
    "      traindata.isnull().sum())\n",
    "print( \"The number of null values in the test data set  are:\\n\", \n",
    "      testdata.isnull().sum())"
   ]
  },
  {
   "cell_type": "code",
   "execution_count": 2,
   "metadata": {
    "colab": {},
    "colab_type": "code",
    "id": "V7AX0ixLiD6J"
   },
   "outputs": [],
   "source": [
    "traindata['age'].fillna((traindata['age'].mean()), inplace=True)\n",
    "testdata['age'].fillna((testdata['age'].mean()), inplace=True)\n",
    "\n",
    "traindata['race'].fillna(traindata['race'].mode()[0], inplace=True)\n",
    "testdata['race'].fillna(testdata['race'].mode()[0], inplace=True)\n",
    "\n",
    "traindata['flee'].fillna(traindata['flee'].mode()[0], inplace=True)\n",
    "testdata['flee'].fillna(testdata['flee'].mode()[0], inplace=True)\n",
    "\n",
    "traindata = traindata.dropna(how='any', subset=['armed'])\n",
    "testdata = testdata.dropna(how='any', subset=['armed'])\n",
    "\n",
    "traindata_unmerged = traindata\n",
    "testdata_unmerged = testdata"
   ]
  },
  {
   "cell_type": "markdown",
   "metadata": {
    "colab_type": "text",
    "id": "Kot8niaddm5t"
   },
   "source": [
    "### **Step 2: Merge the optional datasets**"
   ]
  },
  {
   "cell_type": "markdown",
   "metadata": {
    "colab_type": "text",
    "id": "n9uVaHtuFIJg"
   },
   "source": [
    "First we merged the four optional data sets: education, poverty, income, and share_race_by_city on the columns \"city\" and \"geographic area.\" Before merging the datasets, we used interpolation to fill the missing values. There were several discrepencies in the number of rows between the datasets. This lead to several missing values. We used interpolation again to fill these missing values. \n",
    "The combined data set was merged with our original training and testing data set, in order to incorporate more features into our model. We filled each missing value with the mean of its respective column in both the training and the testing datasets."
   ]
  },
  {
   "cell_type": "code",
   "execution_count": 3,
   "metadata": {
    "colab": {},
    "colab_type": "code",
    "id": "yhpseNMfccGi"
   },
   "outputs": [],
   "source": [
    "education = pd.read_csv('education.csv', encoding='unicode_escape')\n",
    "income = pd.read_csv('income.csv', encoding='unicode_escape')\n",
    "poverty = pd.read_csv('poverty.csv', encoding='unicode_escape')\n",
    "share_race_by_city = pd.read_csv('share_race_by_city.csv', encoding='unicode_escape')\n",
    "\n",
    "education.columns = education.columns.str.lower()\n",
    "income.columns = income.columns.str.lower()\n",
    "poverty.columns = poverty.columns.str.lower()\n",
    "share_race_by_city.columns = share_race_by_city.columns.str.lower()\n",
    "\n",
    "education['percent_completed_hs'] = pd.to_numeric(education['percent_completed_hs'], errors='coerce')\n",
    "income['median income'] = pd.to_numeric(income['median income'], errors='coerce')\n",
    "poverty['poverty_rate'] = pd.to_numeric(poverty['poverty_rate'], errors='coerce')\n",
    "\n",
    "share_race_by_city['share_white'] = pd.to_numeric(share_race_by_city['share_white'], errors='coerce')\n",
    "share_race_by_city['share_black'] = pd.to_numeric(share_race_by_city['share_black'], errors='coerce')\n",
    "share_race_by_city['share_native_american'] = pd.to_numeric(share_race_by_city['share_native_american'], errors='coerce')\n",
    "share_race_by_city['share_asian'] = pd.to_numeric(share_race_by_city['share_asian'], errors='coerce')\n",
    "share_race_by_city['share_hispanic'] = pd.to_numeric(share_race_by_city['share_hispanic'], errors='coerce')\n",
    "\n",
    "education['percent_completed_hs'] = education['percent_completed_hs'].interpolate()\n",
    "income['median income'] = income['median income'].interpolate()\n",
    "poverty['poverty_rate'] = poverty['poverty_rate'].interpolate()\n",
    "\n",
    "share_race_by_city['share_white']= share_race_by_city['share_white'].interpolate()\n",
    "share_race_by_city['share_black'] = share_race_by_city['share_black'].interpolate()\n",
    "share_race_by_city['share_native_american'] = share_race_by_city['share_native_american'].interpolate()\n",
    "share_race_by_city['share_asian'] = share_race_by_city['share_asian'].interpolate()\n",
    "share_race_by_city['share_hispanic'] = share_race_by_city['share_hispanic'].interpolate()\n",
    "\n",
    "poverty_education = pd.merge(poverty, education, how='left', on=['city', 'geographic area'])\n",
    "\n",
    "income_share_race_by_city = pd.merge(income, share_race_by_city, how=\"left\", on=['city', 'geographic area'])\n",
    "\n",
    "income_share_race_by_city['share_white'] = income_share_race_by_city['share_white'].interpolate()\n",
    "income_share_race_by_city['share_black'] = income_share_race_by_city['share_black'].interpolate()\n",
    "income_share_race_by_city['share_native_american'] = income_share_race_by_city['share_native_american'].interpolate()\n",
    "income_share_race_by_city['share_asian'] = income_share_race_by_city['share_asian'].interpolate()\n",
    "income_share_race_by_city['share_hispanic'] = income_share_race_by_city['share_hispanic'].interpolate()\n",
    "\n",
    "combined_optional_df = pd.merge(poverty_education, income_share_race_by_city, how=\"left\", on=['city', 'geographic area'])\n",
    "\n",
    "combined_optional_df['share_white'] = combined_optional_df['share_white'].interpolate()\n",
    "combined_optional_df['share_black'] = combined_optional_df['share_black'].interpolate()\n",
    "combined_optional_df['share_native_american'] = combined_optional_df['share_native_american'].interpolate()\n",
    "combined_optional_df['share_asian'] = combined_optional_df['share_asian'].interpolate()\n",
    "combined_optional_df['share_hispanic'] = combined_optional_df['share_hispanic'].interpolate()\n",
    "\n",
    "combined_optional_df['median income'] = combined_optional_df['median income'].interpolate()\n",
    "\n",
    "traindata = pd.merge(traindata_unmerged, combined_optional_df, how='left', on='city')\n",
    "traindata['poverty_rate'].fillna((traindata['poverty_rate'].mean()), inplace=True)\n",
    "traindata['percent_completed_hs'].fillna((traindata['percent_completed_hs'].mean()), inplace=True)\n",
    "traindata['median income'].fillna((traindata['median income'].mean()), inplace=True)\n",
    "traindata['share_white'].fillna((traindata['share_white'].mean()), inplace=True)\n",
    "traindata['share_black'].fillna((traindata['share_black'].mean()), inplace=True)\n",
    "traindata['share_native_american'].fillna((traindata['share_native_american'].mean()), inplace=True)\n",
    "traindata['share_asian'].fillna((traindata['share_asian'].mean()), inplace=True)\n",
    "traindata['share_hispanic'].fillna((traindata['share_hispanic'].mean()), inplace=True)\n",
    "\n",
    "testdata = pd.merge(testdata_unmerged, combined_optional_df, how='left', on='city')\n",
    "testdata['poverty_rate'].fillna((testdata['poverty_rate'].mean()), inplace=True)\n",
    "testdata['percent_completed_hs'].fillna((testdata['percent_completed_hs'].mean()), inplace=True)\n",
    "testdata['median income'].fillna((testdata['median income'].mean()), inplace=True)\n",
    "testdata['share_white'].fillna((testdata['share_white'].mean()), inplace=True)\n",
    "testdata['share_black'].fillna((testdata['share_black'].mean()), inplace=True)\n",
    "testdata['share_native_american'].fillna((testdata['share_native_american'].mean()), inplace=True)\n",
    "testdata['share_asian'].fillna((testdata['share_asian'].mean()), inplace=True)\n",
    "testdata['share_hispanic'].fillna((testdata['share_hispanic'].mean()), inplace=True)\n",
    "\n",
    "traindata.drop('geographic area', inplace=True,axis=1)\n",
    "testdata.drop('geographic area', inplace=True,axis=1)"
   ]
  },
  {
   "cell_type": "markdown",
   "metadata": {
    "colab_type": "text",
    "id": "kKtK_AmQ5xC0"
   },
   "source": [
    "### **Step 3: Creating new features**"
   ]
  },
  {
   "cell_type": "markdown",
   "metadata": {
    "colab_type": "text",
    "id": "jSTQZu4g6Y0a"
   },
   "source": [
    "We create new columns year, month, day using the date columns. This would be make our data set more organized. We drop the date column. "
   ]
  },
  {
   "cell_type": "code",
   "execution_count": 4,
   "metadata": {
    "colab": {},
    "colab_type": "code",
    "id": "_IO6Ew3DthsD"
   },
   "outputs": [],
   "source": [
    "traindata['year'] = pd.DatetimeIndex(traindata['date']).year\n",
    "testdata['year'] = pd.DatetimeIndex(testdata['date']).year\n",
    "\n",
    "traindata['month'] = pd.DatetimeIndex(traindata['date']).month\n",
    "testdata['month'] = pd.DatetimeIndex(testdata['date']).month\n",
    "\n",
    "traindata['day'] = pd.DatetimeIndex(traindata['date']).day\n",
    "testdata['day'] = pd.DatetimeIndex(testdata['date']).day\n",
    "\n",
    "traindata.drop('date', axis=1,inplace=True)\n",
    "testdata.drop('date', axis=1,inplace=True)"
   ]
  },
  {
   "cell_type": "markdown",
   "metadata": {
    "colab_type": "text",
    "id": "X9MGMzR-d5JS"
   },
   "source": [
    " # **EDA questions** "
   ]
  },
  {
   "cell_type": "markdown",
   "metadata": {
    "colab_type": "text",
    "id": "2Aeu7JK71XaI"
   },
   "source": [
    "### **1.** Which state has the most fatal police shootings? Which city is the most dangerous?"
   ]
  },
  {
   "cell_type": "code",
   "execution_count": 6,
   "metadata": {
    "colab": {
     "base_uri": "https://localhost:8080/",
     "height": 51
    },
    "colab_type": "code",
    "id": "0Q2RqzDy3UoL",
    "outputId": "07a79c5a-67c7-421d-827f-8feeede7f208"
   },
   "outputs": [
    {
     "data": {
      "text/plain": [
       "CA    338\n",
       "Name: state, dtype: int64"
      ]
     },
     "execution_count": 6,
     "metadata": {},
     "output_type": "execute_result"
    }
   ],
   "source": [
    "traindata['state'].value_counts().head(1)"
   ]
  },
  {
   "cell_type": "markdown",
   "metadata": {
    "colab_type": "text",
    "id": "FPDTL8a55QYf"
   },
   "source": [
    "Thus **California** has the most fatal police shootings with 340. "
   ]
  },
  {
   "cell_type": "code",
   "execution_count": 7,
   "metadata": {
    "colab": {
     "base_uri": "https://localhost:8080/",
     "height": 51
    },
    "colab_type": "code",
    "id": "EnisZXoK6vMz",
    "outputId": "8825670d-178a-4e6a-c364-f0915de00799"
   },
   "outputs": [
    {
     "data": {
      "text/plain": [
       "Los Angeles    31\n",
       "Name: city, dtype: int64"
      ]
     },
     "execution_count": 7,
     "metadata": {},
     "output_type": "execute_result"
    }
   ],
   "source": [
    "traindata['city'].value_counts().head(1)"
   ]
  },
  {
   "cell_type": "markdown",
   "metadata": {
    "colab_type": "text",
    "id": "6Cy_q3HO66l9"
   },
   "source": [
    "**Los Angeles** is found to be the most dangerous city as it has 31 police shootings.\n"
   ]
  },
  {
   "cell_type": "markdown",
   "metadata": {
    "colab_type": "text",
    "id": "s3-EUw9jeqGz"
   },
   "source": [
    "### **2.** What is the most common way of being armed?"
   ]
  },
  {
   "cell_type": "code",
   "execution_count": 8,
   "metadata": {
    "colab": {
     "base_uri": "https://localhost:8080/",
     "height": 221
    },
    "colab_type": "code",
    "id": "97CRCdjte36J",
    "outputId": "b28872b4-fe65-42a5-c29d-5d32c36b9046"
   },
   "outputs": [
    {
     "name": "stdout",
     "output_type": "stream",
     "text": [
      "gun                    1114\n",
      "knife                   304\n",
      "unarmed                 148\n",
      "vehicle                 125\n",
      "undetermined             91\n",
      "                       ... \n",
      "straight edge razor       1\n",
      "metal object              1\n",
      "beer bottle               1\n",
      "pole and knife            1\n",
      "pipe                      1\n",
      "Name: armed, Length: 65, dtype: int64\n"
     ]
    }
   ],
   "source": [
    "print(traindata[\"armed\"].value_counts())"
   ]
  },
  {
   "cell_type": "markdown",
   "metadata": {
    "colab_type": "text",
    "id": "7gvORQcQ7CeT"
   },
   "source": [
    "Thus, **gun** is the most common way of being armed."
   ]
  },
  {
   "cell_type": "code",
   "execution_count": 9,
   "metadata": {
    "colab": {
     "base_uri": "https://localhost:8080/",
     "height": 479
    },
    "colab_type": "code",
    "id": "Vs0REe6WHSkj",
    "outputId": "cdd31a09-fa21-4684-eb5a-4e1898b18704"
   },
   "outputs": [
    {
     "data": {
      "image/png": "[encoded data removed]",
      "text/plain": [
       "<Figure size 432x432 with 1 Axes>"
      ]
     },
     "metadata": {},
     "output_type": "display_data"
    }
   ],
   "source": [
    "fig = plt.figure(figsize=(6,6))\n",
    "ax = fig.add_axes([0,0,1,1])\n",
    "ax.axis('equal')\n",
    "plt.title('Distribution of arms ')\n",
    "arms = ['gun', 'knife', 'unarmed', 'vehicle', 'undetermined','others' ]\n",
    "shootings = [1114,304,148,125,91,240]\n",
    "ax.pie(shootings, labels = arms,autopct='%1.2f%%')\n",
    "plt.show()"
   ]
  },
  {
   "cell_type": "markdown",
   "metadata": {
    "colab_type": "text",
    "id": "TH9nCcHafYJo"
   },
   "source": [
    "### **3.** Compare the total number of people killed per race. Compare the number of people killed per race as a proportion of respective races. What difference do you observe?\n",
    "\n",
    "---\n",
    "\n",
    "\n"
   ]
  },
  {
   "cell_type": "code",
   "execution_count": 10,
   "metadata": {
    "colab": {
     "base_uri": "https://localhost:8080/",
     "height": 136
    },
    "colab_type": "code",
    "id": "AtJr9dZXfhM2",
    "outputId": "81b1780e-5deb-4636-9a88-08318ea5b8e8"
   },
   "outputs": [
    {
     "data": {
      "text/plain": [
       "W    1085\n",
       "B     504\n",
       "H     347\n",
       "A      31\n",
       "O      28\n",
       "N      27\n",
       "Name: race, dtype: int64"
      ]
     },
     "execution_count": 10,
     "metadata": {},
     "output_type": "execute_result"
    }
   ],
   "source": [
    "traindata['race'].value_counts()"
   ]
  },
  {
   "cell_type": "code",
   "execution_count": 11,
   "metadata": {
    "colab": {
     "base_uri": "https://localhost:8080/",
     "height": 119
    },
    "colab_type": "code",
    "id": "UyrGmuJvf_ez",
    "outputId": "0687b948-b704-440f-d877-96c368a3e367"
   },
   "outputs": [
    {
     "name": "stdout",
     "output_type": "stream",
     "text": [
      "Total White race people killed are : 1085\n",
      "Total Black or African American people killed are : 504\n",
      "Total Hispanic or Latino people killed are : 347\n",
      "Total Asian killed are : 31\n",
      "Total Other race people killed are : 28\n",
      "Total Native Hawaiian people killed are : 27\n"
     ]
    }
   ],
   "source": [
    "Wdata = traindata[traindata['race'] == 'W']\n",
    "print(\"Total White race people killed are :\", Wdata.shape[0])\n",
    "Bdata = traindata[traindata['race'] == 'B']\n",
    "print(\"Total Black or African American people killed are :\", Bdata.shape[0])\n",
    "Hdata = traindata[traindata['race'] == 'H']\n",
    "print(\"Total Hispanic or Latino people killed are :\", Hdata.shape[0])\n",
    "Adata = traindata[traindata['race'] == 'A']\n",
    "print(\"Total Asian killed are :\", Adata.shape[0])\n",
    "Odata = traindata[traindata['race'] == 'O']\n",
    "print(\"Total Other race people killed are :\", Odata.shape[0])\n",
    "Ndata = traindata[traindata['race'] == 'N']\n",
    "print(\"Total Native Hawaiian people killed are :\", Ndata.shape[0])"
   ]
  },
  {
   "cell_type": "code",
   "execution_count": 12,
   "metadata": {
    "colab": {
     "base_uri": "https://localhost:8080/",
     "height": 513
    },
    "colab_type": "code",
    "id": "MgaeykEErFW3",
    "outputId": "7f2b5dcc-02a3-4a27-ef58-08c27c6a5ea8"
   },
   "outputs": [
    {
     "data": {
      "image/png": "[encoded data removed]",
      "text/plain": [
       "<Figure size 720x576 with 1 Axes>"
      ]
     },
     "metadata": {
      "needs_background": "light"
     },
     "output_type": "display_data"
    }
   ],
   "source": [
    "plt.rcParams['figure.figsize'] = (10, 8)\n",
    "plt.bar(traindata['race'].value_counts().index, traindata['race'].value_counts().values)\n",
    "plt.xlabel('Race')\n",
    "plt.ylabel('Frequency')\n",
    "plt.title('Number of People Killed Per Race')\n",
    "plt.show()"
   ]
  },
  {
   "cell_type": "markdown",
   "metadata": {
    "colab_type": "text",
    "id": "nidZxEP3jI7T"
   },
   "source": [
    "### **4.** What is the age distribution of the victims? Compare age distribution of different races?"
   ]
  },
  {
   "cell_type": "markdown",
   "metadata": {
    "colab_type": "text",
    "id": "eWRbx35UjqTQ"
   },
   "source": [
    "Age distribution of entire data set is as follows :"
   ]
  },
  {
   "cell_type": "code",
   "execution_count": 13,
   "metadata": {
    "colab": {
     "base_uri": "https://localhost:8080/",
     "height": 204
    },
    "colab_type": "code",
    "id": "4sYC3urhjT94",
    "outputId": "8e55aaec-4fc4-4ab4-ba34-131c6c01cbd5"
   },
   "outputs": [
    {
     "name": "stdout",
     "output_type": "stream",
     "text": [
      "count    2022.000000\n",
      "mean       36.565233\n",
      "std        12.776698\n",
      "min         6.000000\n",
      "25%        27.000000\n",
      "50%        35.000000\n",
      "75%        45.000000\n",
      "max        86.000000\n",
      "Name: age, dtype: float64\n",
      "Mode of the data 0    31.0\n",
      "dtype: float64\n"
     ]
    }
   ],
   "source": [
    "print(traindata[\"age\"].describe())\n",
    "print(\"Mode of the data\",traindata[\"age\"].mode())"
   ]
  },
  {
   "cell_type": "code",
   "execution_count": 14,
   "metadata": {
    "colab": {
     "base_uri": "https://localhost:8080/",
     "height": 513
    },
    "colab_type": "code",
    "id": "9bRx5nEwxrtt",
    "outputId": "1be2446f-a3b3-413f-8fb1-5704da38b2a7"
   },
   "outputs": [
    {
     "data": {
      "image/png": "[encoded data removed]",
      "text/plain": [
       "<Figure size 720x576 with 1 Axes>"
      ]
     },
     "metadata": {
      "needs_background": "light"
     },
     "output_type": "display_data"
    }
   ],
   "source": [
    "plt.rcParams['figure.figsize'] = (10, 8)\n",
    "population_ages = traindata['age']\n",
    "bins = [0,10,20,30,40,50,60,70,80,90,100]\n",
    "plt.hist(population_ages, bins, histtype='bar', rwidth=0.8)\n",
    "plt.xlabel('Ages')\n",
    "plt.ylabel('Frequency')\n",
    "plt.title('Age Distribution of Victims')\n",
    "plt.xticks(bins)\n",
    "plt.show()"
   ]
  },
  {
   "cell_type": "markdown",
   "metadata": {
    "colab_type": "text",
    "id": "b1ip4Tvfj13z"
   },
   "source": [
    "Race specific age distribution is as follows:\n"
   ]
  },
  {
   "cell_type": "markdown",
   "metadata": {
    "colab_type": "text",
    "id": "mVPHCfbulXmg"
   },
   "source": [
    "**White race (W)** \n"
   ]
  },
  {
   "cell_type": "code",
   "execution_count": 15,
   "metadata": {
    "colab": {
     "base_uri": "https://localhost:8080/",
     "height": 170
    },
    "colab_type": "code",
    "id": "QyLCol8uj7gq",
    "outputId": "3e3db4dd-c58e-47a9-bb61-54ae8f5d0eb3"
   },
   "outputs": [
    {
     "name": "stdout",
     "output_type": "stream",
     "text": [
      "count    1085.000000\n",
      "mean       40.175828\n",
      "std        13.248466\n",
      "min         6.000000\n",
      "25%        30.000000\n",
      "50%        38.000000\n",
      "75%        50.000000\n",
      "max        86.000000\n",
      "Name: age, dtype: float64\n"
     ]
    }
   ],
   "source": [
    "print(Wdata[\"age\"].describe())"
   ]
  },
  {
   "cell_type": "markdown",
   "metadata": {
    "colab_type": "text",
    "id": "zuFy819Kldsg"
   },
   "source": [
    "**Black or African american race (B)**"
   ]
  },
  {
   "cell_type": "code",
   "execution_count": 16,
   "metadata": {
    "colab": {
     "base_uri": "https://localhost:8080/",
     "height": 170
    },
    "colab_type": "code",
    "id": "8UG1DPuKlo-J",
    "outputId": "4e74e42c-c900-4774-fc6a-3772476eee22"
   },
   "outputs": [
    {
     "name": "stdout",
     "output_type": "stream",
     "text": [
      "count    504.000000\n",
      "mean      31.569572\n",
      "std       10.886775\n",
      "min       13.000000\n",
      "25%       24.000000\n",
      "50%       30.000000\n",
      "75%       37.000000\n",
      "max       77.000000\n",
      "Name: age, dtype: float64\n"
     ]
    }
   ],
   "source": [
    "print(Bdata[\"age\"].describe())"
   ]
  },
  {
   "cell_type": "markdown",
   "metadata": {
    "colab_type": "text",
    "id": "58l-Ju4GltXu"
   },
   "source": [
    "**Hispanic or Latino race (H)**"
   ]
  },
  {
   "cell_type": "code",
   "execution_count": 17,
   "metadata": {
    "colab": {
     "base_uri": "https://localhost:8080/",
     "height": 170
    },
    "colab_type": "code",
    "id": "pQMZd1lbl6L2",
    "outputId": "91e11c79-de15-436d-94e6-46a515a2679e"
   },
   "outputs": [
    {
     "name": "stdout",
     "output_type": "stream",
     "text": [
      "count    347.000000\n",
      "mean      33.148368\n",
      "std       10.612906\n",
      "min       14.000000\n",
      "25%       25.000000\n",
      "50%       32.000000\n",
      "75%       39.000000\n",
      "max       80.000000\n",
      "Name: age, dtype: float64\n"
     ]
    }
   ],
   "source": [
    "print(Hdata[\"age\"].describe())"
   ]
  },
  {
   "cell_type": "markdown",
   "metadata": {
    "colab_type": "text",
    "id": "FRfb29B-mFeI"
   },
   "source": [
    "**Asian race (A)**"
   ]
  },
  {
   "cell_type": "code",
   "execution_count": 18,
   "metadata": {
    "colab": {
     "base_uri": "https://localhost:8080/",
     "height": 170
    },
    "colab_type": "code",
    "id": "qPv7FWR8mPwy",
    "outputId": "665863b0-2308-48c7-fd41-3d22a74391e6"
   },
   "outputs": [
    {
     "name": "stdout",
     "output_type": "stream",
     "text": [
      "count    31.000000\n",
      "mean     37.567117\n",
      "std      11.518399\n",
      "min      15.000000\n",
      "25%      29.500000\n",
      "50%      36.580613\n",
      "75%      44.000000\n",
      "max      61.000000\n",
      "Name: age, dtype: float64\n"
     ]
    }
   ],
   "source": [
    "print(Adata[\"age\"].describe())"
   ]
  },
  {
   "cell_type": "markdown",
   "metadata": {
    "colab_type": "text",
    "id": "N4YpuIUisPMh"
   },
   "source": [
    "**Native Hawaiian race (N)**\n"
   ]
  },
  {
   "cell_type": "code",
   "execution_count": 19,
   "metadata": {
    "colab": {
     "base_uri": "https://localhost:8080/",
     "height": 170
    },
    "colab_type": "code",
    "id": "Dgw_K42fsX11",
    "outputId": "cab81a63-86cc-4712-f16b-a49a25f41fc5"
   },
   "outputs": [
    {
     "name": "stdout",
     "output_type": "stream",
     "text": [
      "count    27.000000\n",
      "mean     31.111111\n",
      "std       8.266398\n",
      "min      19.000000\n",
      "25%      25.000000\n",
      "50%      31.000000\n",
      "75%      36.000000\n",
      "max      49.000000\n",
      "Name: age, dtype: float64\n"
     ]
    }
   ],
   "source": [
    "print(Ndata[\"age\"].describe())"
   ]
  },
  {
   "cell_type": "markdown",
   "metadata": {
    "colab_type": "text",
    "id": "qFmPOaTxsc8o"
   },
   "source": [
    "**Other race (O)**"
   ]
  },
  {
   "cell_type": "code",
   "execution_count": 20,
   "metadata": {
    "colab": {
     "base_uri": "https://localhost:8080/",
     "height": 170
    },
    "colab_type": "code",
    "id": "DSGjSatQtBwh",
    "outputId": "b8cce910-32b8-4436-edb8-747a59c30d5b"
   },
   "outputs": [
    {
     "name": "stdout",
     "output_type": "stream",
     "text": [
      "count    28.000000\n",
      "mean     33.071429\n",
      "std      11.148588\n",
      "min      18.000000\n",
      "25%      26.500000\n",
      "50%      29.500000\n",
      "75%      41.250000\n",
      "max      56.000000\n",
      "Name: age, dtype: float64\n"
     ]
    }
   ],
   "source": [
    "print(Odata[\"age\"].describe())"
   ]
  },
  {
   "cell_type": "markdown",
   "metadata": {
    "colab_type": "text",
    "id": "7eFvocBPgTRp"
   },
   "source": [
    "The common characteristic between all of the distributions was that the age range of most of the victims was late twenties to early forties. The highest mean age was seen among the white race (40 years). The mean age of the other races was around the same range (33 years- 37 years). The youngest person killed was found to be 6 years old and the oldest person killed in our data set was in the upper 80’s. The most frequently occurring age in our data set was found to be 31 years. "
   ]
  },
  {
   "cell_type": "code",
   "execution_count": 21,
   "metadata": {
    "colab": {
     "base_uri": "https://localhost:8080/",
     "height": 542
    },
    "colab_type": "code",
    "id": "bpDdA2lL0ZSC",
    "outputId": "8581144d-8191-4e19-ca35-37543e530734"
   },
   "outputs": [
    {
     "data": {
      "image/png": "[encoded data removed]",
      "text/plain": [
       "<Figure size 1440x720 with 1 Axes>"
      ]
     },
     "metadata": {
      "needs_background": "light"
     },
     "output_type": "display_data"
    }
   ],
   "source": [
    "plt.rcParams['figure.figsize'] = (20, 10)\n",
    "bins = [0, 10, 20, 30, 40, 50, 60, 70, 80, 90, 100]\n",
    "plt.hist([Wdata[\"age\"], Bdata[\"age\"], Hdata[\"age\"], Adata[\"age\"], Ndata[\"age\"], Odata[\"age\"]], bins, histtype='bar', rwidth=0.8, color=['g', 'b', 'r', 'y', 'm', 'c'], \n",
    "         label = ['White', 'black', 'Hispanic or Latino', 'Asian', 'Native Hawaiian', 'Other'])\n",
    "plt.xlabel('Ages')\n",
    "plt.ylabel('Frequency')\n",
    "plt.title('Age Distribution of Victims By Race')\n",
    "plt.xticks(bins)\n",
    "plt.legend()\n",
    "plt.show()"
   ]
  },
  {
   "cell_type": "markdown",
   "metadata": {
    "colab_type": "text",
    "id": "xv9COzBa0RxF"
   },
   "source": [
    "### **5.**  Distribution of race by year "
   ]
  },
  {
   "cell_type": "code",
   "execution_count": 22,
   "metadata": {
    "colab": {
     "base_uri": "https://localhost:8080/",
     "height": 972
    },
    "colab_type": "code",
    "id": "BbCHdw6X3O-h",
    "outputId": "b3997f72-babe-4fa5-bd54-8af1c0e2c5e5"
   },
   "outputs": [
    {
     "name": "stdout",
     "output_type": "stream",
     "text": [
      "Number of killings in 2015:  990\n",
      "Number of killings in 2016:  959\n",
      "Number of killings in 2017 73\n",
      "2015 Killings\n",
      "W    523\n",
      "B    257\n",
      "H    172\n",
      "O     15\n",
      "A     14\n",
      "N      9\n",
      "Name: race, dtype: int64\n",
      "2016 Killings\n",
      "W    526\n",
      "B    231\n",
      "H    160\n",
      "N     16\n",
      "A     15\n",
      "O     11\n",
      "Name: race, dtype: int64\n",
      "2017 Killings\n",
      "W    36\n",
      "B    16\n",
      "H    15\n",
      "A     2\n",
      "N     2\n",
      "O     2\n",
      "Name: race, dtype: int64\n"
     ]
    },
    {
     "data": {
      "image/png": "[encoded data removed]",
      "text/plain": [
       "<Figure size 720x576 with 1 Axes>"
      ]
     },
     "metadata": {
      "needs_background": "light"
     },
     "output_type": "display_data"
    }
   ],
   "source": [
    "data2015 = traindata[traindata['year'] == 2015]\n",
    "data2016 = traindata[traindata['year'] ==  2016]\n",
    "data2017 = traindata[traindata['year'] == 2017]\n",
    "print(\"Number of killings in 2015: \", data2015.shape[0])\n",
    "print(\"Number of killings in 2016: \", data2016.shape[0])\n",
    "print(\"Number of killings in 2017\", data2017.shape[0])\n",
    "\n",
    "print(\"2015 Killings\")\n",
    "print(data2015['race'].value_counts())\n",
    "print(\"2016 Killings\")\n",
    "print(data2016['race'].value_counts())\n",
    "print(\"2017 Killings\")\n",
    "print(data2017['race'].value_counts())\n",
    "\n",
    "fig = plt.figure(figsize=(10,8))\n",
    "time=['2015','2016','2017']\n",
    "r = [0,1,2,3,4,5]\n",
    "ourdata = {'daybar': [523,257,14,9,15,172], 'eveningbar':[526,231,15,16,11,160] ,'nightbar': [36,16,2,2,2,15]}\n",
    "df = pd.DataFrame(ourdata)\n",
    "\n",
    "totals = [i+j+k for i,j,k in zip(df['daybar'], df['eveningbar'], df['nightbar'])]\n",
    "daybar = [i / j * 100 for i,j in zip(df['daybar'], totals)]\n",
    "eveningbar = [i / j * 100 for i,j in zip(df['eveningbar'], totals)]\n",
    "nightbar = [i / j * 100 for i,j in zip(df['nightbar'], totals)]\n",
    "barWidth = 0.85\n",
    "names = names = [\"W\",\"B\",\"A\",\"N\",\"O\",\"H\"]\n",
    "plt.bar(r, daybar, color='#b5ffb9', edgecolor='white', width=barWidth)\n",
    "plt.bar(r, eveningbar, bottom=daybar, color='#f9bc86', edgecolor='white', width=barWidth)\n",
    "plt.bar(r, nightbar, bottom=[i+j for i,j in zip(daybar, eveningbar)], color='#a3acff', edgecolor='white', width=barWidth)\n",
    "plt.legend(time,loc=2)\n",
    "plt.xticks(r, names)\n",
    "plt.title('Percentage of Killings of three years (2015-2017) per Race')\n",
    "plt.xlabel(\"Races \")\n",
    "plt.ylabel(\"Percentage of Killings\")\n",
    "plt.show()"
   ]
  },
  {
   "cell_type": "markdown",
   "metadata": {
    "colab_type": "text",
    "id": "2G0FS0AAVGdJ"
   },
   "source": [
    "The highest number of police killings took place in 2015. 2017 saw the lowest number of killings. Highest percentage of white race and native hawaiian and Asian killings took place in 2016. On the contrary, 2015 saw the highest percentages of black, Hispanic , other race killings. \n"
   ]
  },
  {
   "cell_type": "markdown",
   "metadata": {
    "colab_type": "text",
    "id": "B7dGKUy6K1o0"
   },
   "source": [
    "### **6.**  How does the number of police officers wearing body cameras vary by race?"
   ]
  },
  {
   "cell_type": "code",
   "execution_count": 5,
   "metadata": {
    "colab": {
     "base_uri": "https://localhost:8080/",
     "height": 547
    },
    "colab_type": "code",
    "id": "HQKGLotzRWNH",
    "outputId": "4da4fcb4-85f5-4111-a00e-db0185312030"
   },
   "outputs": [
    {
     "data": {
      "image/png": "[encoded data removed]",
      "text/plain": [
       "<Figure size 720x576 with 1 Axes>"
      ]
     },
     "metadata": {
      "needs_background": "light"
     },
     "output_type": "display_data"
    },
    {
     "name": "stdout",
     "output_type": "stream",
     "text": [
      "The percentage of police shootings where a body camera was not present was 0.890702274975272\n",
      "The percentage of police shootings where a body camera was present was 0.109297725024728\n"
     ]
    }
   ],
   "source": [
    "plt.rcParams['figure.figsize'] = (10, 8)\n",
    "traindata_bodycams = traindata[traindata['body_camera'] == True]\n",
    "traindata_nobodycams = traindata[traindata['body_camera'] == False]\n",
    "plt.bar(traindata_bodycams['race'].value_counts().index, traindata_bodycams['race'].value_counts().values, label='Body Cam available', color='#0000FF')\n",
    "plt.bar(traindata_nobodycams['race'].value_counts().index, traindata_nobodycams['race'].value_counts().values, label='No Body Cam available', color='#FF0000',\n",
    "        bottom=traindata_bodycams['race'].value_counts().values)\n",
    "plt.xlabel('Race')\n",
    "plt.ylabel('Frequency')\n",
    "plt.title('Number of Officers not Wearing Body Cams vs. Number of Officers wearing Body Cams per Race')\n",
    "tickValues = [0, 1, 2, 3, 4, 5]\n",
    "names = [\"W\",\"B\",\"A\",\"N\",\"O\",\"H\"]\n",
    "plt.xticks(ticks = tickValues, labels = names)\n",
    "plt.legend()\n",
    "plt.show()\n",
    "\n",
    "print(\"The percentage of police shootings where a body camera was not present was \" + str((((traindata_nobodycams.shape)[0])/((traindata.shape)[0]))))\n",
    "print(\"The percentage of police shootings where a body camera was present was \" + str(((traindata_bodycams.shape)[0])/((traindata.shape)[0])))"
   ]
  },
  {
   "cell_type": "markdown",
   "metadata": {
    "colab_type": "text",
    "id": "93Ar-V9NLWJO"
   },
   "source": [
    "### **7.**  How was the distribution of the victims identified with a mental illness between the different races?"
   ]
  },
  {
   "cell_type": "code",
   "execution_count": 24,
   "metadata": {
    "colab": {
     "base_uri": "https://localhost:8080/",
     "height": 513
    },
    "colab_type": "code",
    "id": "Kn_W7-DJMAVM",
    "outputId": "1fab3b7e-31f8-4c6c-ede9-64a48a371e69"
   },
   "outputs": [
    {
     "data": {
      "image/png": "[encoded data removed]",
      "text/plain": [
       "<Figure size 720x576 with 1 Axes>"
      ]
     },
     "metadata": {
      "needs_background": "light"
     },
     "output_type": "display_data"
    }
   ],
   "source": [
    "plt.rcParams['figure.figsize'] = (10, 8)\n",
    "traindata_mental = traindata[traindata['signs_of_mental_illness'] == True]\n",
    "traindata_nomental = traindata[traindata['signs_of_mental_illness'] == False]\n",
    "plt.bar(traindata_mental['race'].value_counts().index, traindata_mental['race'].value_counts().values, label='Claim of Sign of Mental Illness', color='#FF0000')\n",
    "plt.bar(traindata_nomental['race'].value_counts().index, traindata_nomental['race'].value_counts().values, label='Claim of no Sign of Mental Illness', color='#0000FF',\n",
    "        bottom=traindata_mental['race'].value_counts().values)\n",
    "plt.xlabel('Race')\n",
    "plt.ylabel('Frequency')\n",
    "plt.title('Number of police shootings were victim was claimed to show and not show a sign of mental illness per Race')\n",
    "tickValues = [0, 1, 2, 3, 4, 5]\n",
    "names = [\"W\",\"B\",\"A\",\"N\",\"O\",\"H\"]\n",
    "plt.xticks(ticks = tickValues, labels = names)\n",
    "plt.legend()\n",
    "plt.show()"
   ]
  },
  {
   "cell_type": "markdown",
   "metadata": {
    "colab_type": "text",
    "id": "yeUxyH5QU3Zh"
   },
   "source": [
    "### 8. Signs of mental illness based on Gender"
   ]
  },
  {
   "cell_type": "code",
   "execution_count": 25,
   "metadata": {
    "colab": {
     "base_uri": "https://localhost:8080/",
     "height": 51
    },
    "colab_type": "code",
    "id": "2MxxbbsGVROb",
    "outputId": "cbf9ee9d-4d0f-4b2a-f1ff-00179434aaeb"
   },
   "outputs": [
    {
     "name": "stdout",
     "output_type": "stream",
     "text": [
      "Number of males killed:  1938\n",
      "Number of females killed: 84\n"
     ]
    }
   ],
   "source": [
    "Mdata = traindata[traindata['gender'] == 'M']\n",
    "Fdata = traindata[traindata['gender'] == 'F']\n",
    "print(\"Number of males killed: \", Mdata.shape[0])\n",
    "print(\"Number of females killed:\",Fdata.shape[0])"
   ]
  },
  {
   "cell_type": "markdown",
   "metadata": {
    "colab_type": "text",
    "id": "y4lcvVN0cAN1"
   },
   "source": [
    "A huge disparity can be noticed between the number of femaless and the number of males killed. \n",
    "95.8% of our data set consists of males as opposed to 4.2 % females."
   ]
  },
  {
   "cell_type": "markdown",
   "metadata": {
    "colab_type": "text",
    "id": "3gewGIL8XZqK"
   },
   "source": [
    "#### Signs of Mental Illness"
   ]
  },
  {
   "cell_type": "code",
   "execution_count": 26,
   "metadata": {
    "colab": {
     "base_uri": "https://localhost:8080/",
     "height": 153
    },
    "colab_type": "code",
    "id": "krT8_ueZVWEm",
    "outputId": "6b40937a-61ff-44ee-ac29-7cf63444f7f1"
   },
   "outputs": [
    {
     "name": "stdout",
     "output_type": "stream",
     "text": [
      "Signs of mental illness among Male\n",
      "False    1452\n",
      "True      486\n",
      "Name: signs_of_mental_illness, dtype: int64\n",
      "Signs of mental illness among Females\n",
      "False    51\n",
      "True     33\n",
      "Name: signs_of_mental_illness, dtype: int64\n"
     ]
    }
   ],
   "source": [
    "print(\"Signs of mental illness among Male\")\n",
    "print(Mdata['signs_of_mental_illness'].value_counts())\n",
    "print(\"Signs of mental illness among Females\")\n",
    "print(Fdata['signs_of_mental_illness'].value_counts())"
   ]
  },
  {
   "cell_type": "markdown",
   "metadata": {
    "colab_type": "text",
    "id": "oDBKDefuYx9n"
   },
   "source": [
    "**Based on the graphs below more percentage of Females killed (almost 40%) were found to exhibit signs of mental illness as compared to males (25%)**"
   ]
  },
  {
   "cell_type": "code",
   "execution_count": 27,
   "metadata": {
    "colab": {
     "base_uri": "https://localhost:8080/",
     "height": 509
    },
    "colab_type": "code",
    "id": "fF1SDOwvVZHs",
    "outputId": "b336c5c6-c1ca-466c-f9e8-0dc40dd54fed"
   },
   "outputs": [
    {
     "data": {
      "image/png": "[encoded data removed]",
      "text/plain": [
       "<Figure size 216x216 with 1 Axes>"
      ]
     },
     "metadata": {},
     "output_type": "display_data"
    },
    {
     "data": {
      "image/png": "[encoded data removed]",
      "text/plain": [
       "<Figure size 216x216 with 1 Axes>"
      ]
     },
     "metadata": {},
     "output_type": "display_data"
    }
   ],
   "source": [
    "fig = plt.figure(figsize=(3,3))\n",
    "ax = fig.add_axes([0,0,1,1])\n",
    "ax.axis('equal')\n",
    "plt.title('Signs of mental illness (Male)')\n",
    "methods = ['False','True' ]\n",
    "crimes = Mdata['signs_of_mental_illness'].value_counts()\n",
    "ax.pie(crimes, labels = methods,autopct='%1.2f%%')\n",
    "plt.show()\n",
    "\n",
    "fig = plt.figure(figsize=(3,3))\n",
    "ax = fig.add_axes([0,0,1,1])\n",
    "ax.axis('equal')\n",
    "plt.title('Signs of mental illness (Female)')\n",
    "methods = ['False','True' ]\n",
    "crimes = Fdata['signs_of_mental_illness'].value_counts()\n",
    "ax.pie(crimes, labels = methods,autopct='%1.2f%%')\n",
    "plt.show()"
   ]
  },
  {
   "cell_type": "markdown",
   "metadata": {
    "colab_type": "text",
    "id": "NKugptw-5U26"
   },
   "source": [
    "# **Data Preprocessing**"
   ]
  },
  {
   "cell_type": "markdown",
   "metadata": {
    "colab_type": "text",
    "id": "bKvUky4u5ic4"
   },
   "source": [
    "We cannot using strings, boolean values, or characters in our models. Here, we prepared our data for our models in part two by assigning each of our categories with corresponding numbers( label encoding )"
   ]
  },
  {
   "cell_type": "code",
   "execution_count": 28,
   "metadata": {
    "colab": {},
    "colab_type": "code",
    "id": "gEE90H_Ho7qk"
   },
   "outputs": [],
   "source": [
    "race_map = {\"W\":1,\"B\":2,\"A\":3,\"N\":4,\"H\":6,\"O\":5, 1:1, 2:2, 3:3, 4:4, 5:5, 6:6}\n",
    "\n",
    "gender_map = {\"M\":1,\"F\":2,1:1,2:2}\n",
    "\n",
    "flee_map = {\"Not fleeing\":1,\"Car\":2,\"Foot\":3,\"Other\":4,1:1,2:2,3:3,4:4}\n",
    "\n",
    "threat_level_map = {\"attack\":1,\"other\":2,\"undetermined\":3,1:1,2:2,3:3}\n",
    "\n",
    "death_map = {\"shot\":1,\"shot and Tasered\":2,1:1,2:2}\n",
    "\n",
    "mental_illness_map = {True:1,False:2,1:1,2:2}\n",
    "\n",
    "body_camera_map = {True:1,False:2,1:1,2:2}\n",
    "\n",
    "traindata['race'] = traindata['race'].map(race_map)\n",
    "testdata['race'] = testdata['race'].map(race_map)\n",
    "\n",
    "traindata['gender'] = traindata['gender'].map(gender_map)\n",
    "testdata['gender'] = testdata['gender'].map(gender_map)\n",
    "\n",
    "traindata['flee'] = traindata['flee'].map(flee_map)\n",
    "testdata['flee'] = testdata['flee'].map(flee_map)\n",
    "\n",
    "traindata['threat_level'] = traindata['threat_level'].map(threat_level_map)\n",
    "testdata['threat_level'] = testdata['threat_level'].map(threat_level_map)\n",
    "\n",
    "traindata['manner_of_death'] = traindata['manner_of_death'].map(death_map)\n",
    "testdata['manner_of_death'] = testdata['manner_of_death'].map(death_map)\n",
    "\n",
    "traindata['signs_of_mental_illness'] = traindata['signs_of_mental_illness'].map(mental_illness_map)\n",
    "testdata['signs_of_mental_illness'] = testdata['signs_of_mental_illness'].map(mental_illness_map)\n",
    "\n",
    "traindata['body_camera'] = traindata['body_camera'].map(body_camera_map)\n",
    "testdata['body_camera'] = testdata['body_camera'].map(body_camera_map)\n",
    "\n",
    "\n",
    "#ARMED\n",
    "unique_armed_methods = traindata['armed'].value_counts().index.tolist()\n",
    "armed_map = {}\n",
    "for i in range(len(unique_armed_methods)):\n",
    "  armed_map[unique_armed_methods[i]] = i+1\n",
    "\n",
    "traindata['armed'] = traindata['armed'].map(armed_map)\n",
    "\n",
    "unique_armed_methods2 = testdata['armed'].value_counts().index.tolist()\n",
    "armed_map2 = {}\n",
    "for i in range(len(unique_armed_methods2)):\n",
    "  armed_map2[unique_armed_methods2[i]] = i+1\n",
    "testdata['armed'] = testdata['armed'].map(armed_map2)\n",
    "\n",
    "#CITY\n",
    "unique_city_methods = traindata['city'].value_counts().index.tolist()\n",
    "city_map = {} \n",
    "\n",
    "for i in range(len(unique_city_methods)):\n",
    "  city_map[unique_city_methods[i]] = i+1\n",
    "\n",
    "traindata['city'] = traindata['city'].map(city_map)\n",
    "\n",
    "unique_city_methods2 = testdata['city'].value_counts().index.tolist()\n",
    "city_map2 = {}\n",
    "\n",
    "for i in range(len(unique_city_methods2)):\n",
    "  city_map2[unique_city_methods2[i]] = i+1\n",
    "testdata['city'] = testdata['city'].map(city_map2)\n",
    "\n",
    "#STATE\n",
    "unique_state_methods = traindata['state'].value_counts().index.tolist()\n",
    "state_map = {}\n",
    "\n",
    "for i in range(len(unique_state_methods)):\n",
    "  state_map[unique_state_methods[i]] = i+1\n",
    "\n",
    "traindata['state'] = traindata['state'].map(state_map)\n",
    "testdata['state'] = testdata['state'].map(state_map)"
   ]
  },
  {
   "cell_type": "markdown",
   "metadata": {
    "colab_type": "text",
    "id": "1eBN8wmK7V77"
   },
   "source": [
    "**Our data is now ready for modelling !**"
   ]
  },
  {
   "cell_type": "code",
   "execution_count": 29,
   "metadata": {
    "colab": {
     "base_uri": "https://localhost:8080/",
     "height": 309
    },
    "colab_type": "code",
    "id": "v6ZkqjXyi0jq",
    "outputId": "46d1a998-3d97-4aad-abce-423969b3d915"
   },
   "outputs": [
    {
     "data": {
      "text/html": [
       "<div>\n",
       "<style scoped>\n",
       "    .dataframe tbody tr th:only-of-type {\n",
       "        vertical-align: middle;\n",
       "    }\n",
       "\n",
       "    .dataframe tbody tr th {\n",
       "        vertical-align: top;\n",
       "    }\n",
       "\n",
       "    .dataframe thead th {\n",
       "        text-align: right;\n",
       "    }\n",
       "</style>\n",
       "<table border=\"1\" class=\"dataframe\">\n",
       "  <thead>\n",
       "    <tr style=\"text-align: right;\">\n",
       "      <th></th>\n",
       "      <th>id</th>\n",
       "      <th>name</th>\n",
       "      <th>manner_of_death</th>\n",
       "      <th>armed</th>\n",
       "      <th>age</th>\n",
       "      <th>gender</th>\n",
       "      <th>race</th>\n",
       "      <th>city</th>\n",
       "      <th>state</th>\n",
       "      <th>signs_of_mental_illness</th>\n",
       "      <th>...</th>\n",
       "      <th>percent_completed_hs</th>\n",
       "      <th>median income</th>\n",
       "      <th>share_white</th>\n",
       "      <th>share_black</th>\n",
       "      <th>share_native_american</th>\n",
       "      <th>share_asian</th>\n",
       "      <th>share_hispanic</th>\n",
       "      <th>year</th>\n",
       "      <th>month</th>\n",
       "      <th>day</th>\n",
       "    </tr>\n",
       "  </thead>\n",
       "  <tbody>\n",
       "    <tr>\n",
       "      <th>0</th>\n",
       "      <td>3</td>\n",
       "      <td>Tim Elliot</td>\n",
       "      <td>1</td>\n",
       "      <td>1</td>\n",
       "      <td>53.0</td>\n",
       "      <td>1</td>\n",
       "      <td>3</td>\n",
       "      <td>1036</td>\n",
       "      <td>14</td>\n",
       "      <td>1</td>\n",
       "      <td>...</td>\n",
       "      <td>91.7</td>\n",
       "      <td>81156.5</td>\n",
       "      <td>78.775</td>\n",
       "      <td>4.825</td>\n",
       "      <td>1.325</td>\n",
       "      <td>6.3</td>\n",
       "      <td>14.3</td>\n",
       "      <td>2015</td>\n",
       "      <td>2</td>\n",
       "      <td>1</td>\n",
       "    </tr>\n",
       "    <tr>\n",
       "      <th>1</th>\n",
       "      <td>4</td>\n",
       "      <td>Lewis Lee Lembke</td>\n",
       "      <td>1</td>\n",
       "      <td>1</td>\n",
       "      <td>47.0</td>\n",
       "      <td>1</td>\n",
       "      <td>1</td>\n",
       "      <td>227</td>\n",
       "      <td>25</td>\n",
       "      <td>2</td>\n",
       "      <td>...</td>\n",
       "      <td>91.7</td>\n",
       "      <td>81156.5</td>\n",
       "      <td>78.775</td>\n",
       "      <td>4.825</td>\n",
       "      <td>1.325</td>\n",
       "      <td>6.3</td>\n",
       "      <td>14.3</td>\n",
       "      <td>2015</td>\n",
       "      <td>2</td>\n",
       "      <td>1</td>\n",
       "    </tr>\n",
       "    <tr>\n",
       "      <th>2</th>\n",
       "      <td>5</td>\n",
       "      <td>John Paul Quintero</td>\n",
       "      <td>2</td>\n",
       "      <td>3</td>\n",
       "      <td>23.0</td>\n",
       "      <td>1</td>\n",
       "      <td>6</td>\n",
       "      <td>101</td>\n",
       "      <td>33</td>\n",
       "      <td>2</td>\n",
       "      <td>...</td>\n",
       "      <td>91.7</td>\n",
       "      <td>81156.5</td>\n",
       "      <td>78.775</td>\n",
       "      <td>4.825</td>\n",
       "      <td>1.325</td>\n",
       "      <td>6.3</td>\n",
       "      <td>14.3</td>\n",
       "      <td>2015</td>\n",
       "      <td>3</td>\n",
       "      <td>1</td>\n",
       "    </tr>\n",
       "    <tr>\n",
       "      <th>3</th>\n",
       "      <td>8</td>\n",
       "      <td>Matthew Hoffman</td>\n",
       "      <td>1</td>\n",
       "      <td>6</td>\n",
       "      <td>32.0</td>\n",
       "      <td>1</td>\n",
       "      <td>1</td>\n",
       "      <td>21</td>\n",
       "      <td>1</td>\n",
       "      <td>1</td>\n",
       "      <td>...</td>\n",
       "      <td>91.7</td>\n",
       "      <td>81156.5</td>\n",
       "      <td>78.775</td>\n",
       "      <td>4.825</td>\n",
       "      <td>1.325</td>\n",
       "      <td>6.3</td>\n",
       "      <td>14.3</td>\n",
       "      <td>2015</td>\n",
       "      <td>4</td>\n",
       "      <td>1</td>\n",
       "    </tr>\n",
       "    <tr>\n",
       "      <th>4</th>\n",
       "      <td>9</td>\n",
       "      <td>Michael Rodriguez</td>\n",
       "      <td>1</td>\n",
       "      <td>57</td>\n",
       "      <td>39.0</td>\n",
       "      <td>1</td>\n",
       "      <td>6</td>\n",
       "      <td>191</td>\n",
       "      <td>5</td>\n",
       "      <td>2</td>\n",
       "      <td>...</td>\n",
       "      <td>91.7</td>\n",
       "      <td>81156.5</td>\n",
       "      <td>78.775</td>\n",
       "      <td>4.825</td>\n",
       "      <td>1.325</td>\n",
       "      <td>6.3</td>\n",
       "      <td>14.3</td>\n",
       "      <td>2015</td>\n",
       "      <td>4</td>\n",
       "      <td>1</td>\n",
       "    </tr>\n",
       "  </tbody>\n",
       "</table>\n",
       "<p>5 rows × 24 columns</p>\n",
       "</div>"
      ],
      "text/plain": [
       "   id                name  manner_of_death  armed   age  gender  race  city  \\\n",
       "0   3          Tim Elliot                1      1  53.0       1     3  1036   \n",
       "1   4    Lewis Lee Lembke                1      1  47.0       1     1   227   \n",
       "2   5  John Paul Quintero                2      3  23.0       1     6   101   \n",
       "3   8     Matthew Hoffman                1      6  32.0       1     1    21   \n",
       "4   9   Michael Rodriguez                1     57  39.0       1     6   191   \n",
       "\n",
       "   state  signs_of_mental_illness  ...  percent_completed_hs  median income  \\\n",
       "0     14                        1  ...                  91.7        81156.5   \n",
       "1     25                        2  ...                  91.7        81156.5   \n",
       "2     33                        2  ...                  91.7        81156.5   \n",
       "3      1                        1  ...                  91.7        81156.5   \n",
       "4      5                        2  ...                  91.7        81156.5   \n",
       "\n",
       "   share_white  share_black  share_native_american  share_asian  \\\n",
       "0       78.775        4.825                  1.325          6.3   \n",
       "1       78.775        4.825                  1.325          6.3   \n",
       "2       78.775        4.825                  1.325          6.3   \n",
       "3       78.775        4.825                  1.325          6.3   \n",
       "4       78.775        4.825                  1.325          6.3   \n",
       "\n",
       "   share_hispanic  year  month  day  \n",
       "0            14.3  2015      2    1  \n",
       "1            14.3  2015      2    1  \n",
       "2            14.3  2015      3    1  \n",
       "3            14.3  2015      4    1  \n",
       "4            14.3  2015      4    1  \n",
       "\n",
       "[5 rows x 24 columns]"
      ]
     },
     "execution_count": 29,
     "metadata": {},
     "output_type": "execute_result"
    }
   ],
   "source": [
    "traindata.head()"
   ]
  },
  {
   "cell_type": "markdown",
   "metadata": {
    "colab_type": "text",
    "id": "7BKSUhls7hK8"
   },
   "source": [
    "## **Pearson Correlation of features**"
   ]
  },
  {
   "cell_type": "markdown",
   "metadata": {
    "colab_type": "text",
    "id": "-x5lXj4TFjet"
   },
   "source": [
    "This is a heatmap which shows the Pearson correlation coefficeints between our different variables. The **state, age, and city** categories show the highest correlation coefficient with the victim's race. Other features that show interesting correlations with eachother are:\n",
    "1. Signs of Mental illness and flee (0.2)\n",
    "2. Threat level and armed (0.17)\n",
    "3. Year and threat level (0.14)\n",
    "4. Manner of death and armed(0.16)"
   ]
  },
  {
   "cell_type": "code",
   "execution_count": 30,
   "metadata": {
    "colab": {
     "base_uri": "https://localhost:8080/",
     "height": 803
    },
    "colab_type": "code",
    "id": "K5ea_TB4nK2X",
    "outputId": "8d9ae9fe-310c-4c49-ccf0-80c80d95e23f"
   },
   "outputs": [
    {
     "data": {
      "image/png": "[encoded data removed]",
      "text/plain": [
       "<Figure size 936x936 with 2 Axes>"
      ]
     },
     "metadata": {
      "needs_background": "light"
     },
     "output_type": "display_data"
    }
   ],
   "source": [
    "traindata2 = traindata.drop(['name','median income','share_white','share_native_american'\n",
    ",'share_black','share_asian','share_hispanic','percent_completed_hs','id'],axis=1)\n",
    "colormap = plt.cm.viridis\n",
    "plt.figure(figsize=(13,13))\n",
    "plt.title('Pearson Correlation of Features', y=1.05, size=15)\n",
    "sns.heatmap(traindata2.astype(float).corr(),linewidths=0.2,vmax=1.0,\n",
    "            square=True, cmap=colormap, linecolor='red', annot=True)\n",
    "plt.show()"
   ]
  },
  {
   "cell_type": "markdown",
   "metadata": {
    "colab_type": "text",
    "id": "_AHiZbmKIddv"
   },
   "source": [
    "# **PREDICTION AND MODELING**"
   ]
  },
  {
   "cell_type": "markdown",
   "metadata": {
    "colab_type": "text",
    "id": "icCxtAfnJbYa"
   },
   "source": [
    "### **1. Classification using Support Vector Machine (SVM)**"
   ]
  },
  {
   "cell_type": "markdown",
   "metadata": {
    "colab_type": "text",
    "id": "JKxwnvU4pvr0"
   },
   "source": [
    "Our first step is to import svc from svm. Next let us train our svm model using our training dataset. We use the value of C=1 and the default rbf kernel for our model with the value of gamma set to auto. The next step is to use the trained model to make predictions by specifying our testing data as the parameter.\n",
    "In order to check the accuracy of our model we compare the predicted output that we got with the testing output that we already have. We check the accuracy for our model with our model's prediction against our dataset’s testing output using a confusion matrix with each column corresponding to a race.\n"
   ]
  },
  {
   "cell_type": "code",
   "execution_count": 31,
   "metadata": {
    "colab": {
     "base_uri": "https://localhost:8080/",
     "height": 397
    },
    "colab_type": "code",
    "id": "89BqTanWJsfV",
    "outputId": "054b6352-743e-4b4c-fcee-3dcc2247916d"
   },
   "outputs": [
    {
     "name": "stdout",
     "output_type": "stream",
     "text": [
      "     W  B  A  N  H\n",
      "W  307  0  0  0  0\n",
      "B  110  0  0  0  0\n",
      "A    8  0  0  0  0\n",
      "N    4  0  0  0  0\n",
      "H   75  0  0  0  0\n"
     ]
    },
    {
     "data": {
      "image/png": "[encoded data removed]",
      "text/plain": [
       "<Figure size 432x288 with 2 Axes>"
      ]
     },
     "metadata": {
      "needs_background": "light"
     },
     "output_type": "display_data"
    }
   ],
   "source": [
    "y_train = traindata['race']\n",
    "X_train = traindata.drop(['race','name'], axis=1)\n",
    "y_test = testdata['race']\n",
    "X_test = testdata.drop(['race','name'], axis=1)\n",
    "model_svc = SVC(gamma='auto',kernel='rbf',C=1)\n",
    "model_svc = model_svc.fit(X_train,y_train)\n",
    "y_pred = model_svc.predict(X_test)\n",
    "confm = np.array(confusion_matrix(y_test,y_pred,labels=[1,2,3,4,6]))\n",
    "conf_matrix= pd.DataFrame(confm, index=['W', 'B','A','N','H'],columns=['W','B','A','N','H'])\n",
    "print(conf_matrix)\n",
    "\n",
    "plt.figure(figsize=(6,4))\n",
    "ax= plt.subplot()\n",
    "sns.heatmap(conf_matrix, annot=True, ax = ax); #annot=True to annotate cells\n",
    "\n",
    "# labels, title and ticks\n",
    "ax.set_xlabel('Predicted labels');ax.set_ylabel('True labels'); \n",
    "ax.set_title('Confusion Matrix'); \n"
   ]
  },
  {
   "cell_type": "markdown",
   "metadata": {
    "colab_type": "text",
    "id": "DUU00VCSqt9o"
   },
   "source": [
    "We now print out a classification report with fields like precision, recall, f1-score and support which give us information about the overall accuracy of our model.\n",
    "\n",
    "**Precision:** ​Precision is the ratio of correctly predicted positive observations to the total predicted positive observations.\n",
    "\n",
    "**Recall:** Recall is the ratio of correctly predicted positive observations to the all observations in actual class\n",
    "\n",
    "**F1- score:** This is the weighted average of Precision and Recall. Therefore, this score takes both false positives and false negatives into account."
   ]
  },
  {
   "cell_type": "code",
   "execution_count": 32,
   "metadata": {
    "colab": {
     "base_uri": "https://localhost:8080/",
     "height": 292
    },
    "colab_type": "code",
    "id": "FwYWyOsnqYns",
    "outputId": "a0df8695-801d-4efb-9b78-680c0ca4c0bc"
   },
   "outputs": [
    {
     "name": "stdout",
     "output_type": "stream",
     "text": [
      "              precision    recall  f1-score   support\n",
      "\n",
      "           1       0.61      1.00      0.76       307\n",
      "           2       0.00      0.00      0.00       110\n",
      "           3       0.00      0.00      0.00         8\n",
      "           4       0.00      0.00      0.00         4\n",
      "           6       0.00      0.00      0.00        75\n",
      "\n",
      "    accuracy                           0.61       504\n",
      "   macro avg       0.12      0.20      0.15       504\n",
      "weighted avg       0.37      0.61      0.46       504\n",
      "\n",
      "Overall Accuracy of the model is : 60.912698412698404 %\n"
     ]
    }
   ],
   "source": [
    "print(classification_report(y_test,y_pred))\n",
    "print(\"Overall Accuracy of the model is :\" ,accuracy_score(y_test, y_pred)*100, \"%\") "
   ]
  },
  {
   "cell_type": "markdown",
   "metadata": {
    "colab_type": "text",
    "id": "B-RnqzDVbowj"
   },
   "source": [
    "### **2. Classification using Decision Tree Classifier**"
   ]
  },
  {
   "cell_type": "markdown",
   "metadata": {
    "colab_type": "text",
    "id": "s_Q7uLKZkk77"
   },
   "source": [
    "A decision tree is supervised learning algorithm. It follows a flowchart-like structure in which  internal node represents a “test” on an attribute, each branch represents the outcome of the test. A leaf node in the tree represents a class label. We continue splitting the tree into nodes , until max_depth has not been reached, or the purity threshold of each leaf node hasnt been reached. The maximum depth of a decision tree can be number of features + 1. In this case we perform classification with decision tree using the value of max_depth as 5. "
   ]
  },
  {
   "cell_type": "code",
   "execution_count": 33,
   "metadata": {
    "colab": {
     "base_uri": "https://localhost:8080/",
     "height": 414
    },
    "colab_type": "code",
    "id": "TueMFN7Mb1L7",
    "outputId": "2cb0ca02-4168-4510-e982-3639ba727dfc"
   },
   "outputs": [
    {
     "name": "stdout",
     "output_type": "stream",
     "text": [
      "     W   B  A  N  O   H\n",
      "W  207  54  0  0  0  46\n",
      "B   55  41  0  0  0  14\n",
      "A    7   0  0  0  0   1\n",
      "N    1   2  0  0  0   1\n",
      "O    0   0  0  0  0   0\n",
      "H   33  12  0  0  0  30\n"
     ]
    },
    {
     "data": {
      "image/png": "[encoded data removed]",
      "text/plain": [
       "<Figure size 432x288 with 2 Axes>"
      ]
     },
     "metadata": {
      "needs_background": "light"
     },
     "output_type": "display_data"
    }
   ],
   "source": [
    "regr_1 = DecisionTreeClassifier(max_depth=5)\n",
    "regr_1.fit(X_train, y_train)\n",
    "y_pred = regr_1.predict(X_test)\n",
    "confm = np.array(confusion_matrix(y_test,y_pred,labels=[1,2,3,4,5,6]))\n",
    "conf_matrix= pd.DataFrame(confm, index=['W','B','A','N','O','H'],columns=['W','B','A','N','O','H'])\n",
    "print(conf_matrix)\n",
    "\n",
    "plt.figure(figsize=(6,4))\n",
    "ax= plt.subplot()\n",
    "sns.heatmap(conf_matrix, annot=True, ax = ax); #annot=True to annotate cells\n",
    "\n",
    "# labels, title and ticks\n",
    "ax.set_xlabel('Predicted labels');ax.set_ylabel('True labels'); \n",
    "ax.set_title('Confusion Matrix'); "
   ]
  },
  {
   "cell_type": "code",
   "execution_count": 34,
   "metadata": {
    "colab": {
     "base_uri": "https://localhost:8080/",
     "height": 292
    },
    "colab_type": "code",
    "id": "X9b-7AVOzFNV",
    "outputId": "1eef88fd-b78c-4c23-cd7e-e3320fcf9c10"
   },
   "outputs": [
    {
     "name": "stdout",
     "output_type": "stream",
     "text": [
      "              precision    recall  f1-score   support\n",
      "\n",
      "           1       0.68      0.67      0.68       307\n",
      "           2       0.38      0.37      0.37       110\n",
      "           3       0.00      0.00      0.00         8\n",
      "           4       0.00      0.00      0.00         4\n",
      "           6       0.33      0.40      0.36        75\n",
      "\n",
      "    accuracy                           0.55       504\n",
      "   macro avg       0.28      0.29      0.28       504\n",
      "weighted avg       0.55      0.55      0.55       504\n",
      "\n",
      "Overall Accuracy of the model is : 55.158730158730165 %\n"
     ]
    }
   ],
   "source": [
    "print(classification_report(y_test,y_pred))\n",
    "print(\"Overall Accuracy of the model is :\" ,accuracy_score(y_test, y_pred)*100, \"%\") "
   ]
  },
  {
   "cell_type": "markdown",
   "metadata": {
    "colab_type": "text",
    "id": "rJyQT4-pb9hQ"
   },
   "source": [
    "### **3.Classification using Random Forest Classifier**\n"
   ]
  },
  {
   "cell_type": "markdown",
   "metadata": {
    "colab_type": "text",
    "id": "IPz4-Oos3CbT"
   },
   "source": [
    "The Random Forest Classifier is a set of decision trees from a randomly selected subset of training set. It ​combines the votes from different decision trees​ to decide the final class of the test object.\n",
    "Random Forest Prediction for a ​classification ​problem:\n",
    "f(x) = majority vote of all predicted classes over N trees. But, overlapping of subsets may also happen. Random forest also applies weight to a specific tree based on how much that tree is prone to error.\n",
    "All the decision tree classifiers obtained can be aggregated into a random forest ensemble which combines their output through averaging or votes. And the weight of each tree is taken into consideration while taking the majority votes on prediction. This single ensemble model ends up outperforming any individual decision tree’s output.\n"
   ]
  },
  {
   "cell_type": "markdown",
   "metadata": {
    "colab_type": "text",
    "id": "NPPh1HqA3_Xu"
   },
   "source": [
    "#####  **Hyperparamater Tuning ( n_estimators, max_depth)**"
   ]
  },
  {
   "cell_type": "markdown",
   "metadata": {
    "colab_type": "text",
    "id": "KoCWfxfX3fUY"
   },
   "source": [
    "The Random Forest Classifier takes parameters such as n_estimators (number of trees in the forest) and max_depth (maximum depth of each tree in the forest) and we should calculate these parameters which gives the best accuracy.\n",
    "For this purpose we use RandomizedSearchCV. ​RandomizedSearchCV implements a “fit” method and a “predict” method like any classifier. However in this case, the parameters of the classifier used to predict is optimized by cross-validation. In this case, not all parameter values are tried out. Only a fixed number of parameter settings is chosen from the specified distributions. The number of parameter settings that are tried is given by n_iter. In our case we use the value of 100 for n_iter.\n",
    "We make an array for n_estimators and max_depth with values ranging from 50 to 500 and 2 to 12 respectively in it. We then use RandomSearchCV to find the best parameters and do 100 iterations for cv = 3 folds. So total iterations performed are 300 which is sufficient to get the best result."
   ]
  },
  {
   "cell_type": "code",
   "execution_count": 35,
   "metadata": {
    "colab": {
     "base_uri": "https://localhost:8080/",
     "height": 119
    },
    "colab_type": "code",
    "id": "xrIy0jFnb86_",
    "outputId": "b6980048-2dcd-4910-ceea-0fbdc18661b3"
   },
   "outputs": [
    {
     "name": "stdout",
     "output_type": "stream",
     "text": [
      "Fitting 3 folds for each of 100 candidates, totalling 300 fits\n"
     ]
    },
    {
     "name": "stderr",
     "output_type": "stream",
     "text": [
      "[Parallel(n_jobs=-1)]: Using backend LokyBackend with 12 concurrent workers.\n",
      "[Parallel(n_jobs=-1)]: Done  17 tasks      | elapsed:    4.7s\n",
      "[Parallel(n_jobs=-1)]: Done 138 tasks      | elapsed:   19.6s\n",
      "[Parallel(n_jobs=-1)]: Done 300 out of 300 | elapsed:   39.4s finished\n"
     ]
    },
    {
     "name": "stdout",
     "output_type": "stream",
     "text": [
      "{'n_estimators': 95, 'max_depth': 5}\n"
     ]
    }
   ],
   "source": [
    "rf = RandomForestClassifier(random_state=0)\n",
    "rf.fit(X_train,y_train)\n",
    "n_estimators = [int(x) for x in np.linspace(start = 50, stop = 500, num = 50)]\n",
    "max_depth = [int(x) for x in np.linspace(2, 12, num = 10)]\n",
    "random_grid = {'n_estimators': n_estimators,'max_depth': max_depth }\n",
    "rfrandom = RandomizedSearchCV(estimator = rf, param_distributions = random_grid,\n",
    "                               n_iter = 100, cv = 3, verbose=2, random_state=42, n_jobs = -1)\n",
    "rfrandom.fit(X_train, y_train)\n",
    "print(rfrandom.best_params_)"
   ]
  },
  {
   "cell_type": "markdown",
   "metadata": {
    "colab_type": "text",
    "id": "l2s9P4vfw_fj"
   },
   "source": [
    "We now perform **K-Fold Cross Validation** on the training data set to improve the model's accuracy. This splits the training data into K parts and they are called folds. Our Random Forest Classifier model would be trained and tested K times, using a different fold for testing every time, while it would be trained on the remaining K-1 folds. This will happen for different depths every time. We will be splitting our data into K = 10 folds."
   ]
  },
  {
   "cell_type": "code",
   "execution_count": 36,
   "metadata": {
    "colab": {
     "base_uri": "https://localhost:8080/",
     "height": 397
    },
    "colab_type": "code",
    "id": "8nbIHITkdYjK",
    "outputId": "74a706af-c783-415e-f3be-0db637cd3d63"
   },
   "outputs": [
    {
     "name": "stdout",
     "output_type": "stream",
     "text": [
      "     W   B  A  N  H\n",
      "W  288  19  0  0  0\n",
      "B   88  22  0  0  0\n",
      "A    7   1  0  0  0\n",
      "N    4   0  0  0  0\n",
      "H   69   4  0  0  2\n"
     ]
    },
    {
     "data": {
      "image/png": "[encoded data removed]",
      "text/plain": [
       "<Figure size 432x288 with 2 Axes>"
      ]
     },
     "metadata": {
      "needs_background": "light"
     },
     "output_type": "display_data"
    }
   ],
   "source": [
    "crossValidation = KFold(n_splits=10)\n",
    "ourTree = RandomForestClassifier(n_estimators= rfrandom.best_params_['n_estimators'],max_depth= rfrandom.best_params_['max_depth'],random_state=0)\n",
    "for train_fold, valid_fold in crossValidation.split(X_train):\n",
    "    training = traindata.iloc[train_fold]\n",
    "    testing = traindata.iloc[valid_fold]\n",
    "    foldfit = ourTree.fit(X = training.drop(['race','name'], axis=1),\n",
    "                               y = training[\"race\"])\n",
    "    modelscore = foldfit.score(X=testing.drop(['race','name'], axis=1),\n",
    "                                    y=testing[\"race\"])\n",
    "test_predict = ourTree.predict(X_test)\n",
    "confm = np.array(confusion_matrix(y_test,test_predict,labels=[1,2,3,4,6]))\n",
    "conf_matrix= pd.DataFrame(confm, index=['W','B','A','N','H'],columns=['W','B','A','N','H'])\n",
    "print(conf_matrix)\n",
    "\n",
    "plt.figure(figsize=(6,4))\n",
    "ax= plt.subplot()\n",
    "sns.heatmap(conf_matrix, annot=True, ax = ax); #annot=True to annotate cells\n",
    "\n",
    "# labels, title and ticks\n",
    "ax.set_xlabel('Predicted labels');ax.set_ylabel('True labels'); \n",
    "ax.set_title('Confusion Matrix'); "
   ]
  },
  {
   "cell_type": "code",
   "execution_count": 37,
   "metadata": {
    "colab": {
     "base_uri": "https://localhost:8080/",
     "height": 292
    },
    "colab_type": "code",
    "id": "ER16vqIS4bIK",
    "outputId": "8d6ce4bc-24f3-4a53-bc3d-6f25d0aa92ec"
   },
   "outputs": [
    {
     "name": "stdout",
     "output_type": "stream",
     "text": [
      "              precision    recall  f1-score   support\n",
      "\n",
      "           1       0.63      0.94      0.75       307\n",
      "           2       0.48      0.20      0.28       110\n",
      "           3       0.00      0.00      0.00         8\n",
      "           4       0.00      0.00      0.00         4\n",
      "           6       1.00      0.03      0.05        75\n",
      "\n",
      "    accuracy                           0.62       504\n",
      "   macro avg       0.42      0.23      0.22       504\n",
      "weighted avg       0.64      0.62      0.53       504\n",
      "\n",
      "Overall Accuracy of the model is : 61.904761904761905 %\n"
     ]
    }
   ],
   "source": [
    "print(classification_report(y_test, test_predict))\n",
    "print(\"Overall Accuracy of the model is :\" ,accuracy_score(y_test, test_predict)*100, \"%\") "
   ]
  },
  {
   "cell_type": "markdown",
   "metadata": {
    "colab_type": "text",
    "id": "avLXdbBjCatv"
   },
   "source": [
    "### **4. Classification using K nearest neighbours classifier** "
   ]
  },
  {
   "cell_type": "markdown",
   "metadata": {
    "colab_type": "text",
    "id": "nYUE1IMmC--6"
   },
   "source": [
    "K nearest algorithm is another supervised learning algorithm. It classifies new data based on its similarity measure to existing data. It classifies new data points based on how its K neighbours are classified. Here we choose the value of K as 10."
   ]
  },
  {
   "cell_type": "code",
   "execution_count": 38,
   "metadata": {
    "colab": {
     "base_uri": "https://localhost:8080/",
     "height": 397
    },
    "colab_type": "code",
    "id": "p4_5nJ7LAXAZ",
    "outputId": "fa60e294-cd82-440e-a40d-578d2f47f253"
   },
   "outputs": [
    {
     "name": "stdout",
     "output_type": "stream",
     "text": [
      "     W  B  A  N  H\n",
      "W  306  1  0  0  0\n",
      "B  110  0  0  0  0\n",
      "A    8  0  0  0  0\n",
      "N    4  0  0  0  0\n",
      "H   75  0  0  0  0\n"
     ]
    },
    {
     "data": {
      "image/png": "[encoded data removed]",
      "text/plain": [
       "<Figure size 432x288 with 2 Axes>"
      ]
     },
     "metadata": {
      "needs_background": "light"
     },
     "output_type": "display_data"
    }
   ],
   "source": [
    "from sklearn.neighbors import KNeighborsClassifier\n",
    "classifier = KNeighborsClassifier(n_neighbors = 10)\n",
    "classifier.fit(X_train, y_train)\n",
    "y_pred = classifier.predict(X_test)\n",
    "\n",
    "confm = np.array(confusion_matrix(y_test,y_pred,labels=[1,2,3,4,6]))\n",
    "conf_matrix= pd.DataFrame(confm, index=['W','B','A','N','H'],columns=['W','B','A','N','H'])\n",
    "print(conf_matrix)\n",
    "\n",
    "plt.figure(figsize=(6,4))\n",
    "ax= plt.subplot()\n",
    "sns.heatmap(conf_matrix, annot=True, ax = ax); #annot=True to annotate cells\n",
    "\n",
    "# labels, title and ticks\n",
    "ax.set_xlabel('Predicted labels');ax.set_ylabel('True labels'); \n",
    "ax.set_title('Confusion Matrix'); "
   ]
  },
  {
   "cell_type": "code",
   "execution_count": 39,
   "metadata": {
    "colab": {
     "base_uri": "https://localhost:8080/",
     "height": 292
    },
    "colab_type": "code",
    "id": "FP69-uYLTirs",
    "outputId": "995afbd2-9229-4793-a9d7-4e8cdf66354d"
   },
   "outputs": [
    {
     "name": "stdout",
     "output_type": "stream",
     "text": [
      "              precision    recall  f1-score   support\n",
      "\n",
      "           1       0.61      1.00      0.76       307\n",
      "           2       0.00      0.00      0.00       110\n",
      "           3       0.00      0.00      0.00         8\n",
      "           4       0.00      0.00      0.00         4\n",
      "           6       0.00      0.00      0.00        75\n",
      "\n",
      "    accuracy                           0.61       504\n",
      "   macro avg       0.12      0.20      0.15       504\n",
      "weighted avg       0.37      0.61      0.46       504\n",
      "\n",
      "Overall Accuracy of the model is : 60.71428571428571 %\n"
     ]
    }
   ],
   "source": [
    "print(classification_report(y_test, y_pred))\n",
    "print(\"Overall Accuracy of the model is :\" ,accuracy_score(y_test, y_pred)*100, \"%\") "
   ]
  },
  {
   "cell_type": "markdown",
   "metadata": {
    "colab_type": "text",
    "id": "LMW6pQ3HHVoq"
   },
   "source": [
    "#### **Conclusion**"
   ]
  },
  {
   "cell_type": "markdown",
   "metadata": {
    "colab_type": "text",
    "id": "VgLH1o8H5naP"
   },
   "source": [
    "#### **We notice that hyper paramater tuning for random forest increased our accuracy, to around 60% in comparison to just using decision tree which gave us an accuracy ranging between 50%-54%.** SVM produces a relatively good result with an accuracy of above 60%. KNN classifier produces almost the same accuracy as SVM. We notice that the pearsons correlation of the features with the target variable 'race' were relatively low. This means that our features were not the best predictors for 'race'. During the process of data cleaning, we also found that the training and testing data sets had a high number of missing values in the columns 'age', 'race', 'flee', 'armed'. The  other 4 data sets encountered an even high percentage of missing values, in comparison to the training and testing data sets. Even though we imputed the missing values using methods like interpolation , mean value, and mode, the presence of a high number of these values might have led to the low accuracy of the model"
   ]
  }
 ],
 "metadata": {
  "colab": {
   "collapsed_sections": [],
   "name": "CSE 351_Final_project.ipynb",
   "provenance": [],
   "toc_visible": true
  },
  "kernelspec": {
   "display_name": "Python 3",
   "language": "python",
   "name": "python3"
  },
  "language_info": {
   "codemirror_mode": {
    "name": "ipython",
    "version": 3
   },
   "file_extension": ".py",
   "mimetype": "text/x-python",
   "name": "python",
   "nbconvert_exporter": "python",
   "pygments_lexer": "ipython3",
   "version": "3.7.6"
  }
 },
 "nbformat": 4,
 "nbformat_minor": 1
}
